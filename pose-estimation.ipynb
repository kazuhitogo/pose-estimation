{
 "cells": [
  {
   "cell_type": "markdown",
   "metadata": {},
   "source": [
    "# 物体検出 + 姿勢推定\n",
    "## 前提\n",
    "* Kernel\n",
    "    * Python 3 (MXNet 1.8 Python 3.7 CPU Optimized)\n",
    "* instance\n",
    "    * t3.medium もしくは m5.large\n",
    "\n",
    "##  ライブラリのバージョンアップ"
   ]
  },
  {
   "cell_type": "code",
   "execution_count": null,
   "metadata": {
    "scrolled": true
   },
   "outputs": [],
   "source": [
    "!pip install --upgrade pip\n",
    "!pip install --upgrade mxnet gluoncv"
   ]
  },
  {
   "cell_type": "markdown",
   "metadata": {},
   "source": [
    "## ライブラリ読み込み"
   ]
  },
  {
   "cell_type": "code",
   "execution_count": null,
   "metadata": {},
   "outputs": [],
   "source": [
    "from matplotlib import pyplot as plt\n",
    "from gluoncv import model_zoo, data, utils\n",
    "from gluoncv.data.transforms.pose import detector_to_simple_pose, heatmap_to_coord\n",
    "import cv2\n",
    "import os\n",
    "from glob import glob"
   ]
  },
  {
   "cell_type": "markdown",
   "metadata": {},
   "source": [
    "## モデル読み込み"
   ]
  },
  {
   "cell_type": "code",
   "execution_count": null,
   "metadata": {},
   "outputs": [],
   "source": [
    "# 深層学習のモデルを読み込み\n",
    "detector = model_zoo.get_model('yolo3_mobilenet1.0_coco', pretrained=True)\n",
    "pose_net = model_zoo.get_model('simple_pose_resnet18_v1b', pretrained=True)\n",
    "# 物体検出はひとのみにする\n",
    "detector.reset_class([\"person\"], reuse_weights=['person'])"
   ]
  },
  {
   "cell_type": "markdown",
   "metadata": {},
   "source": [
    "## 使用するファイルとディレクトリを定義"
   ]
  },
  {
   "cell_type": "code",
   "execution_count": null,
   "metadata": {},
   "outputs": [],
   "source": [
    "MV_FILE_NAME = './20170201.mp4'\n",
    "INPUT_DIR = 'input'\n",
    "OUTPUT_DIR = 'output'"
   ]
  },
  {
   "cell_type": "markdown",
   "metadata": {},
   "source": [
    "## 動画を1フレームずつ画像に切り出して、`INPUT_DIR`に保存する"
   ]
  },
  {
   "cell_type": "code",
   "execution_count": null,
   "metadata": {},
   "outputs": [],
   "source": [
    "cap = cv2.VideoCapture(MV_FILE_NAME)\n",
    "os.makedirs(INPUT_DIR, exist_ok=True)\n",
    "n = 0\n",
    "while True:\n",
    "    ret, frame = cap.read()\n",
    "    if ret:\n",
    "        cv2.imwrite(os.path.join(INPUT_DIR,str(n).zfill(5)+'.png'),frame)\n",
    "        n += 1\n",
    "    else:\n",
    "        break"
   ]
  },
  {
   "cell_type": "markdown",
   "metadata": {},
   "source": [
    "## 出来上がった画像のファイルリストを取得"
   ]
  },
  {
   "cell_type": "code",
   "execution_count": null,
   "metadata": {
    "scrolled": true
   },
   "outputs": [],
   "source": [
    "input_file_list = sorted(glob(INPUT_DIR+'/*.png'))\n",
    "print(input_file_list)"
   ]
  },
  {
   "cell_type": "markdown",
   "metadata": {},
   "source": [
    "## 画像を一枚ずつ物体検出と姿勢推定して、`OUTPUT_DIR`に推論結果を出力する"
   ]
  },
  {
   "cell_type": "code",
   "execution_count": null,
   "metadata": {
    "scrolled": true
   },
   "outputs": [],
   "source": [
    "!rm {OUTPUT_DIR}/*.png\n",
    "os.makedirs(OUTPUT_DIR, exist_ok=True)\n",
    "for input_file in input_file_list:\n",
    "    x, img = data.transforms.presets.ssd.load_test(input_file, short=512)\n",
    "    class_IDs, scores, bounding_boxs = detector(x)\n",
    "    try:\n",
    "        pose_input, upscale_bbox = detector_to_simple_pose(img, class_IDs, scores, bounding_boxs)\n",
    "\n",
    "        predicted_heatmap = pose_net(pose_input)\n",
    "        pred_coords, confidence = heatmap_to_coord(predicted_heatmap, upscale_bbox)\n",
    "\n",
    "        plt.rcParams['figure.figsize'] = (15.0, 15.0)\n",
    "        ax = utils.viz.plot_keypoints(img, pred_coords, confidence,\n",
    "                                      class_IDs, bounding_boxs, scores,\n",
    "                                      box_thresh=0.1, keypoint_thresh=0.1)\n",
    "        ax.axis(\"off\")\n",
    "        plt.ioff()\n",
    "        plt.savefig(input_file.replace(INPUT_DIR,OUTPUT_DIR))\n",
    "        plt.close()\n",
    "    except:\n",
    "        plt.rcParams['figure.figsize'] = (15.0, 15.0)\n",
    "        plt.imshow(img)\n",
    "        plt.axis(\"off\")\n",
    "        plt.ioff()\n",
    "        plt.savefig(input_file.replace(INPUT_DIR,OUTPUT_DIR))\n",
    "        plt.close()"
   ]
  },
  {
   "cell_type": "markdown",
   "metadata": {},
   "source": [
    "## 推論した画像を動画にまとめる"
   ]
  },
  {
   "cell_type": "code",
   "execution_count": null,
   "metadata": {},
   "outputs": [],
   "source": [
    "# !rm video.mp4\n",
    "\n",
    "fourcc = cv2.VideoWriter_fourcc('m', 'p', '4', 'v')\n",
    "video = cv2.VideoWriter('./video_20170201.mp4',fourcc, 29.97, (1080,1080))\n",
    "for i,img_file_path in enumerate(sorted(glob(f'{OUTPUT_DIR}/*.png'))):\n",
    "    img = cv2.imread(img_file_path)\n",
    "    video.write(img)\n",
    "video.release()"
   ]
  },
  {
   "cell_type": "code",
   "execution_count": null,
   "metadata": {},
   "outputs": [],
   "source": []
  }
 ],
 "metadata": {
  "kernelspec": {
   "display_name": "Python 3 (MXNet 1.8 Python 3.7 CPU Optimized)",
   "language": "python",
   "name": "python3__SAGEMAKER_INTERNAL__arn:aws:sagemaker:us-east-2:429704687514:image/mxnet-1.8-cpu-py37-ubuntu16.04-v1"
  },
  "language_info": {
   "codemirror_mode": {
    "name": "ipython",
    "version": 3
   },
   "file_extension": ".py",
   "mimetype": "text/x-python",
   "name": "python",
   "nbconvert_exporter": "python",
   "pygments_lexer": "ipython3",
   "version": "3.7.10"
  }
 },
 "nbformat": 4,
 "nbformat_minor": 4
}
